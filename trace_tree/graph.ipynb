{
 "cells": [
  {
   "cell_type": "markdown",
   "metadata": {},
   "source": [
    "# 溯源树衍生：论文图的制作\n",
    "几个方向：  \n",
    "1. 溯源树-森林版\n",
    "2. 基于已有论文的桑基图\n",
    "3. 加入论文质量、有用程度检测"
   ]
  },
  {
   "cell_type": "code",
   "execution_count": 1,
   "metadata": {},
   "outputs": [],
   "source": [
    "import os\n",
    "from dotenv import load_dotenv\n",
    "\n",
    "# 加载 .env 文件\n",
    "load_dotenv()\n",
    "\n",
    "# 尝试获取环境变量并打印出来\n",
    "dashscope_api_key = os.getenv(\"DASHSCOPE_API_KEY\")"
   ]
  },
  {
   "cell_type": "markdown",
   "metadata": {},
   "source": [
    "## 1.解析+LLM评估论文质量\n",
    "两种评估类型：  \n",
    "1. 非量化，仅对低质量论文进行过滤：可以在进行论文解析时一并进行，增加一个布尔值的key：has_value，直接基于摘要进行判断；  \n",
    "2. 如果需要更精细、量化的评价，则应该在解析之外，单独对LLM进行一次调用"
   ]
  },
  {
   "cell_type": "code",
   "execution_count": 2,
   "metadata": {},
   "outputs": [],
   "source": [
    "from langchain_community.llms import Tongyi\n",
    "from langchain.prompts import PromptTemplate"
   ]
  },
  {
   "cell_type": "code",
   "execution_count": 13,
   "metadata": {},
   "outputs": [],
   "source": [
    "# 论文信息提取\n",
    "class ParseLLM:\n",
    "    def __init__(self,model_name,api_key):\n",
    "        self.llm=Tongyi(model=model_name,api_key=api_key)\n",
    "        \n",
    "        # 解析论文信息，包括 标题、发表日期和摘要\n",
    "        self.parse_prompt_template=PromptTemplate(template=\"\"\"\n",
    "            <document>{document}</document>\n",
    "            \n",
    "            <instruction>\n",
    "                Extract the following information from the document above and return it in JSON format:\n",
    "                - Title of the paper\n",
    "                - publication date, use'%Y-%m-%d' fromat\n",
    "                - Abstract\n",
    "            </instruction>\n",
    "                \n",
    "            <output_example>\n",
    "                Output example:\n",
    "                {{\n",
    "                    \"title\": \"The title of the paper\",\n",
    "                    \"publication_date\": \"2025-03-13\",\n",
    "                    \"abstract\": \"The abstract of the paper\"\n",
    "                }}\n",
    "            </output_example>\n",
    "            \"\"\")\n",
    "        \n",
    "        \n",
    "    \n",
    "    def response(self,prompt):\n",
    "        response=self.llm.invoke(prompt)\n",
    "        return response\n",
    "    \n",
    "    def parse_paper(self,paper):\n",
    "        prompt=self.parse_prompt_template.format(document=paper)\n",
    "        response=self.response(prompt)\n",
    "        return response"
   ]
  },
  {
   "cell_type": "code",
   "execution_count": 14,
   "metadata": {},
   "outputs": [],
   "source": [
    "class JudgeLLM:\n",
    "    def __init__(self,model_name,api_key):\n",
    "        self.llm=Tongyi(model=model_name,api_key=api_key)\n",
    "        \n",
    "        # 解析论文信息，包括 标题、发表日期和摘要\n",
    "        self.judge_prompt_template=PromptTemplate(template=\"\"\"\n",
    "            <document>{document}</document>\n",
    "            \n",
    "            <instruction>\n",
    "            Please evaluate the paper's contribution based on the following criteria, scoring each dimension from 1-5. Calculate the final average score (rounded to one decimal place):\n",
    "\n",
    "            【Evaluation Dimensions & Scoring Rubrics】\n",
    "            1. Innovation (Theoretical/Methodological Breakthrough)\n",
    "            - 5: Establishes a new research direction (e.g., Transformer)\n",
    "            - 4: Significant improvement or novel application scenario\n",
    "            - 3: Incremental improvement over existing methods\n",
    "            - 2: Minor tweaks or reproducibility study\n",
    "            - 1: Lacking substantive innovation\n",
    "\n",
    "            2. Impact (Academic Contribution)\n",
    "            - 5: Revolutionizes the research paradigm\n",
    "            - 4: Frequently cited by influential papers\n",
    "            - 3: Moderate citations (10-50/year)\n",
    "            - 2: Limited citations (<10/year)\n",
    "            - 1: No academic influence\n",
    "\n",
    "            3. Methodological Rigor\n",
    "            - 5: Complete theoretical proof & robust experiments\n",
    "            - 4: Reliable method with minor limitations\n",
    "            - 3: Basic validity but lacks thorough validation\n",
    "            - 2: Invalid key assumptions\n",
    "            - 1: Fundamental methodological flaws\n",
    "\n",
    "            4. Practical Value\n",
    "            - 5: Demonstrated industrial applications\n",
    "            - 4: Clear potential for real-world use\n",
    "            - 3: Requires major modifications for application\n",
    "            - 2: Extremely limited use cases\n",
    "            - 1: No practical utility\n",
    "\n",
    "            5. Completeness (Reproducibility)\n",
    "            - 5: Open-sourced code/data with full replication\n",
    "            - 4: Partial implementation details provided\n",
    "            - 3: Ambiguous key implementations\n",
    "            - 2: Lacking critical experimental details\n",
    "            - 1: Intentional withholding of core methods\n",
    "\n",
    "            Output format:\n",
    "            [Dimension 1]: X (brief justification)\n",
    "            [Dimension 2]: X (brief justification)\n",
    "            ...\n",
    "            Final Score: X.X\n",
    "            </instruction>\n",
    "               \n",
    "            \"\"\")\n",
    "        \n",
    "        \n",
    "    \n",
    "    def response(self,prompt):\n",
    "        response=self.llm.invoke(prompt)\n",
    "        return response\n",
    "    \n",
    "    def judge_paper(self,paper)->str:\n",
    "        prompt=self.judge_prompt_template.format(document=paper)\n",
    "        response=self.response(prompt)\n",
    "        return response"
   ]
  },
  {
   "cell_type": "code",
   "execution_count": 25,
   "metadata": {},
   "outputs": [
    {
     "name": "stdout",
     "output_type": "stream",
     "text": [
      "[Innovation (Theoretical/Methodological Breakthrough)]: 4  \n",
      "Justification: The paper introduces a novel jailbreak method called Attack via Implicit Reference (AIR), which effectively bypasses existing detection mechanisms by decomposing malicious objectives into nested harmless objectives and leveraging implicit references. While it represents a significant advancement in jailbreak techniques, it builds upon existing adversarial attack strategies and does not fundamentally redefine the field.\n",
      "\n",
      "[Impact (Academic Contribution)]: 3  \n",
      "Justification: The AIR method has the potential to be frequently cited due to its novelty and effectiveness in bypassing current LLM security measures. However, its immediate revolution of the research paradigm is limited, and it may take some time for it to gain moderate citations (10-50/year).\n",
      "\n",
      "[Methodological Rigor]: 4  \n",
      "Justification: The paper provides a comprehensive framework for AIR, including theoretical explanations, experimental setups, and cross-model attack strategies. While the experiments cover multiple LLMs and scenarios, the methodology could benefit from additional robustness tests to ensure consistent performance across diverse models and inputs.\n",
      "\n",
      "[Practical Value]: 3  \n",
      "Justification: AIR demonstrates practical implications for understanding and improving LLM security. However, applying it directly to real-world scenarios may require modifications to account for specific model architectures and use cases. Its immediate industrial applications are limited.\n",
      "\n",
      "[Completeness (Reproducibility)]: 4  \n",
      "Justification: The paper includes detailed experimental setups, prompts, and evaluations. Code and jailbreak artifacts are available on GitHub, but some aspects of the rewriting process rely on proprietary models, which may hinder full reproducibility for all readers.\n",
      "\n",
      "Final Score: 3.6\n"
     ]
    }
   ],
   "source": [
    "judge_llm = JudgeLLM(model_name=\"qwen-turbo\", api_key=dashscope_api_key)\n",
    "\n",
    "from PyPDF2 import PdfReader\n",
    "paper_path=\"../data/You Know What I'm Saying Jailbreak Attack via Implicit Reference.pdf\"\n",
    "\n",
    "reader = PdfReader(paper_path)\n",
    "paper_content = \"\"\n",
    "\n",
    "# 遍历每一页并提取文本\n",
    "for page in reader.pages:\n",
    "    paper_content += page.extract_text()\n",
    "    \n",
    "score_output=judge_llm.judge_paper(paper_content)\n",
    "print(score_output)"
   ]
  },
  {
   "cell_type": "code",
   "execution_count": 26,
   "metadata": {},
   "outputs": [
    {
     "name": "stdout",
     "output_type": "stream",
     "text": [
      "<class 'str'>\n"
     ]
    }
   ],
   "source": [
    "print(type(score_output))"
   ]
  },
  {
   "cell_type": "code",
   "execution_count": 28,
   "metadata": {},
   "outputs": [
    {
     "name": "stdout",
     "output_type": "stream",
     "text": [
      "Extracted Final Score: 3.6\n"
     ]
    }
   ],
   "source": [
    "match = re.search(r'Final Score:\\s*(\\d+(\\.\\d+)?)', score_output)\n",
    "if match:\n",
    "    final_score = float(match.group(1))  # 提取分数并转换为浮点数\n",
    "    print(f\"Extracted Final Score: {final_score}\")\n",
    "else:\n",
    "    print(\"Final Score not found.\")"
   ]
  },
  {
   "cell_type": "code",
   "execution_count": 37,
   "metadata": {},
   "outputs": [],
   "source": [
    "# 论文分类\n",
    "class ClassifyLLM:\n",
    "    def __init__(self,model_name,api_key):\n",
    "        self.llm=Tongyi(model=model_name,api_key=api_key)\n",
    "        # \n",
    "        self.classify_prompt_template = PromptTemplate(template=\"\"\"\n",
    "            <abstract>{abstract}</abstract>\n",
    "            <instruction>\n",
    "            Given the abstract of a scientific paper, please classify it into one of the following categories:\n",
    "\n",
    "            category: base on abstract of the paper, choose one category that best describes the paper's focus:\n",
    "            - adversarial_attack : Techniques designed to deceive machine learning models by introducing small perturbations to inputs, causing incorrect predictions or outputs.\n",
    "            - adversarial_defense : Methods aimed at improving the robustness of machine learning models against adversarial attacks, ensuring reliable performance under malicious inputs.\n",
    "            - jailbreak_attack : Strategies to bypass the ethical, safety, or content restrictions imposed on language models, enabling unintended or harmful behaviors.\n",
    "            - jailbreak_defense : Approaches to prevent or mitigate jailbreak attacks, ensuring language models adhere to their intended safety and ethical guidelines.\n",
    "            - prompt_injection_attack : Exploiting vulnerabilities in language models by crafting malicious prompts to manipulate model outputs for unintended purposes.\n",
    "            - promp_injection_defense : Techniques to detect and prevent prompt injection attacks, safeguarding models from maliciously crafted inputs.\n",
    "            - backdoor_attack : Injecting hidden triggers into machine learning models during training, which cause the model to produce specific, often malicious outputs when activated.\n",
    "            - backdoor_defense : Mechanisms to detect, mitigate, or eliminate backdoors in machine learning models, ensuring their integrity and security.\n",
    "            - safety_alignment : Efforts to align AI models with human values, ethical principles, and safety requirements, reducing risks of harmful or inappropriate outputs.\n",
    "            - energy_latency_attack : Attacks targeting the computational efficiency of AI systems, increasing energy consumption or latency to degrade performance.\n",
    "            - model_extraction_attack : Attempts to steal or replicate a machine learning model's functionality by querying it and analyzing its outputs.\n",
    "            - data_extraction_attack : Techniques to extract sensitive or proprietary data used during the training of machine learning models, compromising privacy or intellectual property.\n",
    "            - evaluation : Studies focused on assessing the performance, robustness, fairness, or other characteristics of machine learning models through systematic testing and analysis.\n",
    "            </instruction>\n",
    "            \n",
    "            <output_example>\n",
    "            {{\n",
    "             \"jailbreak_attack\"\n",
    "            }}\n",
    "            </output_example>\n",
    "      \"\"\")\n",
    "        \n",
    "    \n",
    "    def response(self,prompt):\n",
    "        response=self.llm.invoke(prompt)\n",
    "        return response\n",
    "    \n",
    "    def classify_paper(self,abstract):\n",
    "        prompt=self.classify_prompt_template.format(abstract=abstract)\n",
    "        response=self.response(prompt)\n",
    "        return response"
   ]
  },
  {
   "cell_type": "markdown",
   "metadata": {},
   "source": [
    "进行解析：\n",
    "1. 使用pdf工具读取论文\n",
    "2. 使用ParseLLM解析基础信息，转为JSON\n",
    "3. 使用LLM进行质量判断（可选）、分类\n",
    "4. 将结果写入JSON文件"
   ]
  },
  {
   "cell_type": "code",
   "execution_count": 46,
   "metadata": {},
   "outputs": [],
   "source": [
    "import os\n",
    "import json\n",
    "from PyPDF2 import PdfReader\n",
    "from datetime import datetime\n",
    "from tqdm import tqdm\n",
    "import re\n",
    "\n",
    "# Step 1: 读取指定文件夹中的所有 PDF 文件内容\n",
    "def read_papers_from_folder(folder_path):\n",
    "    papers = []\n",
    "    \n",
    "    # 获取所有 PDF 文件路径\n",
    "    pdf_files = [filename for filename in os.listdir(folder_path) if filename.endswith(\".pdf\")]\n",
    "    \n",
    "    # 使用 tqdm 包裹 pdf_files 列表，显示进度条\n",
    "    for filename in tqdm(pdf_files, desc=\"Reading PDFs\", unit=\"file\"):\n",
    "        file_path = os.path.join(folder_path, filename)\n",
    "        try:\n",
    "            reader = PdfReader(file_path)\n",
    "            paper_content = \"\"\n",
    "            \n",
    "            # 遍历每一页并提取文本\n",
    "            for page in reader.pages:\n",
    "                paper_content += page.extract_text()\n",
    "            \n",
    "            papers.append(paper_content)\n",
    "        \n",
    "        except Exception as e:\n",
    "            # 捕获异常并打印错误信息\n",
    "            tqdm.write(f\"Error reading {filename}: {e}\")  # 使用 tqdm.write 避免干扰进度条\n",
    "    \n",
    "    return papers\n",
    "\n",
    "# 辅助函数：去掉多余字符，将输出转为json格式\n",
    "def parse_to_json(response):\n",
    "    \"\"\"\n",
    "    解析模型返回的带有 Markdown 格式代码块的 JSON 字符串。\n",
    "    \n",
    "    :param response: 模型返回的字符串，例如：\n",
    "                     ```json\\n{\\n  \"论文题目\": \"INJEC AGENT...\",\\n  \"发布时间\": \"2024-08-04\",\\n  \"摘要\": \"Recent work...\"\\n}\\n```\n",
    "    :return: 解析后的 Python 字典\n",
    "    \"\"\"\n",
    "    try:\n",
    "        # Step 1: 去掉 Markdown 格式的代码块标记\n",
    "        if response.startswith(\"```json\") and response.endswith(\"```\"):\n",
    "            # 去掉开头的 ```json 和结尾的 ```\n",
    "            response = response[len(\"```json\"):-len(\"```\")].strip()\n",
    "        \n",
    "        # Step 2: 将剩余的字符串解析为 JSON\n",
    "        parsed_data = json.loads(response)\n",
    "        return parsed_data\n",
    "    except json.JSONDecodeError as e:\n",
    "        print(f\"JSON 解析失败: {e}\")\n",
    "        return None\n",
    "    except Exception as e:\n",
    "        print(f\"发生错误: {e}\")\n",
    "        return None\n",
    "    \n",
    "# Step 2: 使用 ParseLLM 处理每篇论文，生成解析后的信息列表,\n",
    "# 增加论文评分\n",
    "def process_papers_with_parse_llm(papers, model_name, api_key=None):\n",
    "    parse_llm = ParseLLM(model_name=model_name, api_key=api_key)\n",
    "    judge_llm = JudgeLLM(model_name=model_name, api_key=api_key)\n",
    "    \n",
    "    paper_infos = []\n",
    "    for i, paper in enumerate(tqdm(papers,desc=\"Processing papers\", unit=\"paper\")):\n",
    "        # print(f\"Processing paper {i + 1}/{len(papers)}...\")\n",
    "        try:\n",
    "            # add paper info\n",
    "            paper_info = parse_llm.parse_paper(paper)\n",
    "            parsed_info = parse_to_json(paper_info)  # 将 LLM 的响应解析为字典\n",
    "            parsed_info_with_index={\"index\": i + 1, **parsed_info}\n",
    "            \n",
    "            # add score\n",
    "            score_str = judge_llm.judge_paper(paper)\n",
    "            match =  re.search(r'Final Score:\\s*(\\d+(\\.\\d+)?)', score_str)  # Match integers or decimals\n",
    "            if match:\n",
    "                score = float(match.group(1))\n",
    "            else:\n",
    "                score=-1\n",
    "            parsed_info_with_index[\"score\"]=score\n",
    "            \n",
    "            paper_infos.append(parsed_info_with_index)\n",
    "        except Exception as e:\n",
    "            tqdm.write(f\"Error parsing paper {i + 1}: {e}\") \n",
    "    return paper_infos\n",
    "\n",
    "\n",
    "# step 3：使用和ClassifyLLM，对论文进行分类\n",
    "# 返回的score需要去除非数字内容，再转为数值；    \n",
    "# 遍历paper_infos，根据paper的abstract进行分类    \n",
    "def classify_papers(paper_infos, model_name, api_key=None):\n",
    "    classify_llm = ClassifyLLM(model_name=model_name, api_key=api_key)\n",
    "    classified_papers = []\n",
    "    \n",
    "    for paper_info in tqdm(paper_infos,desc=\"Classifying papers\", unit=\"paper\"):\n",
    "        try:\n",
    "            abstract=paper_info[\"abstract\"]\n",
    "            category=classify_llm.classify_paper(abstract)\n",
    "            # 处理字符串\n",
    "            category=category[len(\"```json\"):-len(\"```\")].strip()\n",
    "            category=category.strip(\"{ }\\n\\\"\")\n",
    "            \n",
    "            classifed_paper_info={\"category\": category, **paper_info}\n",
    "            classified_papers.append(classifed_paper_info)\n",
    "        except Exception as e:\n",
    "            tqdm.write(f\"发生错误: {e}\")\n",
    "\n",
    "    return classified_papers\n",
    "\n",
    "# Step 4: 将解析后的信息写入 JSON 文件\n",
    "def save_paper_infos_to_json(paper_infos, output_file_path):\n",
    "    with open(output_file_path, 'w') as f:\n",
    "        json.dump(paper_infos, f, ensure_ascii=False, indent=4)\n",
    "    print(f\"Paper infos have been saved to {output_file_path}\")\n",
    "\n",
    "# 解析\n",
    "def parse(folder_path, output_file_path, model_name, api_key=None):\n",
    "    # Step 1: 读取 PDF 文件\n",
    "    papers = read_papers_from_folder(folder_path)\n",
    "    if not papers:\n",
    "        print(\"No PDF files found in the specified folder.\")\n",
    "        return\n",
    "\n",
    "    # Step 2: 使用 ParseLLM 解析论文\n",
    "    paper_infos = process_papers_with_parse_llm(papers, model_name, api_key)\n",
    "    \n",
    "    # step 3: 使用ClassifyLLM，对论文进行分类\n",
    "    paper_infos=classify_papers(paper_infos, model_name, api_key)\n",
    "\n",
    "    # Step 4: 将解析结果写入 JSON 文件\n",
    "    save_paper_infos_to_json(paper_infos, output_file_path)\n"
   ]
  },
  {
   "cell_type": "code",
   "execution_count": 31,
   "metadata": {},
   "outputs": [],
   "source": [
    "# 配置路径\n",
    "folder_path = \"../data\"  \n",
    "# folder_path=\"../EDK/Agent.Data/PDF\"\n",
    "\n",
    "output_file_path = \"output/paper_infos7.json\" \n",
    "model_name=\"qwen-turbo\"\n",
    "api_key=dashscope_api_key"
   ]
  },
  {
   "cell_type": "code",
   "execution_count": 10,
   "metadata": {},
   "outputs": [
    {
     "name": "stderr",
     "output_type": "stream",
     "text": [
      "Reading PDFs:  30%|███       | 112/369 [01:35<03:29,  1.23file/s]FloatObject (b'0.000000000000-14210855') invalid; use 0.0 instead\n",
      "Reading PDFs: 100%|██████████| 369/369 [06:11<00:00,  1.01s/file]\n"
     ]
    }
   ],
   "source": [
    "# 分步执行\n",
    "# Step 1: 读取 PDF 文件\n",
    "papers = read_papers_from_folder(folder_path)"
   ]
  },
  {
   "cell_type": "code",
   "execution_count": 29,
   "metadata": {},
   "outputs": [
    {
     "name": "stderr",
     "output_type": "stream",
     "text": [
      "Processing papers:  33%|███▎      | 121/369 [29:32<46:24, 11.23s/paper]  "
     ]
    },
    {
     "name": "stdout",
     "output_type": "stream",
     "text": [
      "Error parsing paper 121: status_code: 400 \n",
      " code: DataInspectionFailed \n",
      " message: Input data may contain inappropriate content.\n"
     ]
    },
    {
     "name": "stderr",
     "output_type": "stream",
     "text": [
      "Processing papers:  38%|███▊      | 139/369 [34:12<52:24, 13.67s/paper]  "
     ]
    },
    {
     "name": "stdout",
     "output_type": "stream",
     "text": [
      "Error parsing paper 139: status_code: 400 \n",
      " code: DataInspectionFailed \n",
      " message: Input data may contain inappropriate content.\n"
     ]
    },
    {
     "name": "stderr",
     "output_type": "stream",
     "text": [
      "Processing papers:  40%|███▉      | 146/369 [36:09<53:10, 14.31s/paper]  "
     ]
    },
    {
     "name": "stdout",
     "output_type": "stream",
     "text": [
      "Error parsing paper 146: status_code: 400 \n",
      " code: DataInspectionFailed \n",
      " message: Input data may contain inappropriate content.\n"
     ]
    },
    {
     "name": "stderr",
     "output_type": "stream",
     "text": [
      "Processing papers:  58%|█████▊    | 213/369 [54:38<37:33, 14.44s/paper]  "
     ]
    },
    {
     "name": "stdout",
     "output_type": "stream",
     "text": [
      "Error parsing paper 213: status_code: 400 \n",
      " code: DataInspectionFailed \n",
      " message: Input data may contain inappropriate content.\n"
     ]
    },
    {
     "name": "stderr",
     "output_type": "stream",
     "text": [
      "Processing papers:  60%|█████▉    | 220/369 [56:28<35:26, 14.27s/paper]"
     ]
    },
    {
     "name": "stdout",
     "output_type": "stream",
     "text": [
      "Error parsing paper 220: status_code: 400 \n",
      " code: DataInspectionFailed \n",
      " message: Input data may contain inappropriate content.\n"
     ]
    },
    {
     "name": "stderr",
     "output_type": "stream",
     "text": [
      "Processing papers:  71%|███████   | 262/369 [1:07:15<20:12, 11.34s/paper]"
     ]
    },
    {
     "name": "stdout",
     "output_type": "stream",
     "text": [
      "Error parsing paper 262: status_code: 400 \n",
      " code: DataInspectionFailed \n",
      " message: Input data may contain inappropriate content.\n"
     ]
    },
    {
     "name": "stderr",
     "output_type": "stream",
     "text": [
      "Processing papers:  73%|███████▎  | 270/369 [1:09:05<20:44, 12.58s/paper]"
     ]
    },
    {
     "name": "stdout",
     "output_type": "stream",
     "text": [
      "Error parsing paper 270: status_code: 400 \n",
      " code: DataInspectionFailed \n",
      " message: Input data may contain inappropriate content.\n"
     ]
    },
    {
     "name": "stderr",
     "output_type": "stream",
     "text": [
      "Processing papers:  75%|███████▍  | 276/369 [1:10:30<20:47, 13.42s/paper]"
     ]
    },
    {
     "name": "stdout",
     "output_type": "stream",
     "text": [
      "Error parsing paper 276: status_code: 400 \n",
      " code: DataInspectionFailed \n",
      " message: Input data may contain inappropriate content.\n"
     ]
    },
    {
     "name": "stderr",
     "output_type": "stream",
     "text": [
      "Processing papers:  75%|███████▌  | 277/369 [1:10:35<16:48, 10.96s/paper]"
     ]
    },
    {
     "name": "stdout",
     "output_type": "stream",
     "text": [
      "Error parsing paper 277: status_code: 400 \n",
      " code: DataInspectionFailed \n",
      " message: Input data may contain inappropriate content.\n"
     ]
    },
    {
     "name": "stderr",
     "output_type": "stream",
     "text": [
      "Processing papers:  77%|███████▋  | 283/369 [1:12:09<19:08, 13.35s/paper]"
     ]
    },
    {
     "name": "stdout",
     "output_type": "stream",
     "text": [
      "Error parsing paper 283: status_code: 400 \n",
      " code: DataInspectionFailed \n",
      " message: Input data may contain inappropriate content.\n"
     ]
    },
    {
     "name": "stderr",
     "output_type": "stream",
     "text": [
      "Processing papers:  78%|███████▊  | 287/369 [1:12:59<16:17, 11.92s/paper]"
     ]
    },
    {
     "name": "stdout",
     "output_type": "stream",
     "text": [
      "Error parsing paper 287: status_code: 400 \n",
      " code: DataInspectionFailed \n",
      " message: Input data may contain inappropriate content.\n"
     ]
    },
    {
     "name": "stderr",
     "output_type": "stream",
     "text": [
      "Processing papers:  86%|████████▌ | 317/369 [1:20:12<11:10, 12.90s/paper]"
     ]
    },
    {
     "name": "stdout",
     "output_type": "stream",
     "text": [
      "Error parsing paper 317: status_code: 400 \n",
      " code: DataInspectionFailed \n",
      " message: Input data may contain inappropriate content.\n"
     ]
    },
    {
     "name": "stderr",
     "output_type": "stream",
     "text": [
      "Processing papers:  88%|████████▊ | 325/369 [1:21:58<08:45, 11.94s/paper]"
     ]
    },
    {
     "name": "stdout",
     "output_type": "stream",
     "text": [
      "JSON 解析失败: Expecting property name enclosed in double quotes: line 4 column 917 (char 1089)\n",
      "Error parsing paper 325: 'NoneType' object is not a mapping\n"
     ]
    },
    {
     "name": "stderr",
     "output_type": "stream",
     "text": [
      "Processing papers:  93%|█████████▎| 342/369 [1:26:13<05:41, 12.67s/paper]"
     ]
    },
    {
     "name": "stdout",
     "output_type": "stream",
     "text": [
      "Error parsing paper 342: status_code: 400 \n",
      " code: DataInspectionFailed \n",
      " message: Input data may contain inappropriate content.\n"
     ]
    },
    {
     "name": "stderr",
     "output_type": "stream",
     "text": [
      "Processing papers:  95%|█████████▌| 352/369 [1:28:27<03:22, 11.94s/paper]"
     ]
    },
    {
     "name": "stdout",
     "output_type": "stream",
     "text": [
      "JSON 解析失败: Expecting value: line 1 column 1 (char 0)\n",
      "Error parsing paper 352: 'NoneType' object is not a mapping\n"
     ]
    },
    {
     "name": "stderr",
     "output_type": "stream",
     "text": [
      "Processing papers: 100%|██████████| 369/369 [1:32:46<00:00, 15.08s/paper]\n"
     ]
    }
   ],
   "source": [
    "# Step 2: 使用 ParseLLM 解析论文\n",
    "paper_infos = process_papers_with_parse_llm(papers, model_name, api_key)"
   ]
  },
  {
   "cell_type": "code",
   "execution_count": 47,
   "metadata": {},
   "outputs": [
    {
     "name": "stderr",
     "output_type": "stream",
     "text": [
      "Classifying papers: 100%|██████████| 354/354 [04:04<00:00,  1.45paper/s]\n"
     ]
    }
   ],
   "source": [
    "# step 3: 使用ClassifyLLM，对论文进行分类\n",
    "import json\n",
    "\n",
    "with open(\"output/paper_infos6.json\", \"r\") as f:\n",
    "    paper_infos = json.load(f)\n",
    "\n",
    "paper_infos=classify_papers(paper_infos, model_name, api_key)\n"
   ]
  },
  {
   "cell_type": "code",
   "execution_count": 48,
   "metadata": {},
   "outputs": [
    {
     "name": "stdout",
     "output_type": "stream",
     "text": [
      "Paper infos have been saved to output/paper_infos7.json\n"
     ]
    }
   ],
   "source": [
    "# Step 4: 将解析结果写入 JSON 文件\n",
    "save_paper_infos_to_json(paper_infos, output_file_path)"
   ]
  },
  {
   "cell_type": "markdown",
   "metadata": {},
   "source": [
    "## 2.建溯源树森林\n",
    "build_forest(papers,root_index,layers)\n",
    "1. 选取一个节点，进行建树，建树过程中所有进入树的论文从列表中删除，直至到达层数/收敛\n",
    "2. 然后在剩余的论文中，选取一个节点，进行建树，重复1\n",
    "3. 循环1，2，直到达到某个给定阈值的论文已经建入森林，此时停止  \n",
    "\n",
    "使用队列实现"
   ]
  },
  {
   "cell_type": "markdown",
   "metadata": {},
   "source": [
    "## 3.统计图绘制\n",
    "- 类别：按照论文类别进行分类，绘制饼状图，每类代表一个饼块；分类找一篇新综述参考，用LLM解析&分类；\n",
    "- 年份：按照年份进行分类，绘制条形统计图或者饼状图，每年代表一个分量；  \n",
    "- 桑基图\n",
    "\n",
    "所以解析时解析：题目、发布日期、类别"
   ]
  },
  {
   "cell_type": "code",
   "execution_count": 30,
   "metadata": {},
   "outputs": [],
   "source": [
    "import json\n",
    "import pandas as pd\n",
    "from datetime import datetime\n",
    "import matplotlib.pyplot as plt\n",
    "import os\n",
    "\n",
    "def process_paper_data(paper_infos_path, score_threshold=2):\n",
    "    \"\"\"\n",
    "    加载论文信息数据，过滤符合条件的论文，并统计年份和类别的分布。\n",
    "    \n",
    "    Args:\n",
    "        paper_infos_path (str): 论文信息文件的路径（JSON格式）。\n",
    "        score_threshold (float): 过滤条件，保留 score >= score_threshold 的论文。\n",
    "        \n",
    "    Returns:\n",
    "        dict: 包含以下键值对：\n",
    "            - 'year_counts': 年份数量统计 (Series)\n",
    "            - 'category_counts': 类别数量统计 (Series)\n",
    "            - 'sankey_data': 桑基图数据 (dict)，格式为 {'source': [], 'target': [], 'value': []}\n",
    "            - 'df': 过滤后的论文信息 (DataFrame)\n",
    "    \"\"\"\n",
    "    # 加载论文信息数据\n",
    "    with open(paper_infos_path, 'r') as info_file:\n",
    "        paper_infos = json.load(info_file)\n",
    "\n",
    "    # 转换为 DataFrame\n",
    "    df = pd.DataFrame(paper_infos)\n",
    "\n",
    "    # 提取年份\n",
    "    df['publication_year'] = df['publication_date'].apply(\n",
    "        lambda x: datetime.strptime(x, \"%Y-%m-%d\").year\n",
    "    )\n",
    "\n",
    "    # 统计年份数量\n",
    "    year_counts = df['publication_year'].value_counts().sort_index()\n",
    "\n",
    "    # 统计类别数量\n",
    "    category_counts = df['category'].value_counts()\n",
    "\n",
    "    # 准备桑基图数据\n",
    "    sankey_data = (\n",
    "        df.groupby(['publication_year', 'category'])\n",
    "        .size()\n",
    "        .reset_index(name='count')\n",
    "    )\n",
    "    \n",
    "    # 转换为目标字典格式\n",
    "    sankey_dict = {\n",
    "        'source': sankey_data['publication_year'].astype(str).tolist(),  # 确保年份是字符串\n",
    "        'target': sankey_data['category'].tolist(),\n",
    "        'value': sankey_data['count'].tolist()\n",
    "    }\n",
    "    sankey_data=pd.DataFrame(sankey_dict)\n",
    "\n",
    "    # 返回结果\n",
    "    return {\n",
    "        'year_counts': year_counts,\n",
    "        'category_counts': category_counts,\n",
    "        'sankey_data': sankey_data,  \n",
    "        'df': df\n",
    "    }"
   ]
  },
  {
   "cell_type": "code",
   "execution_count": 38,
   "metadata": {},
   "outputs": [],
   "source": [
    "import os\n",
    "import matplotlib.pyplot as plt\n",
    "import numpy as np\n",
    "\n",
    "def plot_pie_chart(data, labels, title=\"Pie Chart\", figsize=(10, 8), \n",
    "                  autopct='%1.1f%%', startangle=140, shadow=True,\n",
    "                  explode=None, min_pct=1, fontsize=12, legend_loc=\"best\",\n",
    "                  folder_path=None, filename=\"pie_chart.png\"):\n",
    "    \"\"\"\n",
    "    绘制优化后的饼状图，确保所有标签清晰可见。\n",
    "\n",
    "    Args:\n",
    "        data (list or pd.Series): 饼状图的数据值\n",
    "        labels (list or pd.Index): 饼状图的标签\n",
    "        title (str): 图表标题，默认为\"Pie Chart\"\n",
    "        figsize (tuple): 图形大小，默认为(10, 8)\n",
    "        autopct (str): 百分比格式，默认为'%1.1f%%'\n",
    "        startangle (int): 起始角度，默认为140\n",
    "        shadow (bool): 是否显示阴影，默认为True\n",
    "        explode (list): 各部分突出显示，默认为None\n",
    "        min_pct (float): 最小显示百分比，小于此值合并为\"其他\"，默认为1\n",
    "        fontsize (int): 字体大小，默认为12\n",
    "        legend_loc (str): 图例位置，默认为\"best\"\n",
    "        folder_path (str): 保存路径，默认为None\n",
    "        filename (str): 文件名，默认为\"pie_chart.png\"\n",
    "    \"\"\"\n",
    "    # 处理小百分比数据\n",
    "    data = np.array(data)\n",
    "    labels = np.array(labels)\n",
    "    \n",
    "    if min_pct > 0:\n",
    "        total = sum(data)\n",
    "        mask = data/total*100 >= min_pct\n",
    "        other_value = sum(data[~mask])\n",
    "        \n",
    "        if other_value > 0:\n",
    "            data = np.append(data[mask], other_value)\n",
    "            labels = np.append(labels[mask], \"其他\")\n",
    "            \n",
    "            # 调整explode参数\n",
    "            if explode is not None:\n",
    "                explode = np.append(np.array(explode)[mask], 0.1)\n",
    "    \n",
    "    # 创建图形\n",
    "    plt.figure(figsize=figsize)\n",
    "    \n",
    "    # 自动调整标签位置\n",
    "    def my_autopct(pct):\n",
    "        return f'{pct:.1f}%' if pct >= min_pct else ''\n",
    "    \n",
    "    # 绘制饼图\n",
    "    wedges, texts, autotexts = plt.pie(\n",
    "        data, \n",
    "        labels=labels if len(data) <= 10 else None,  # 数据项多时使用图例\n",
    "        autopct=my_autopct,\n",
    "        startangle=startangle,\n",
    "        explode=explode,\n",
    "        pctdistance=0.85,  # 百分比位置\n",
    "        textprops={'fontsize': fontsize},\n",
    "        wedgeprops={'linewidth': 1, 'edgecolor': 'white'}  # 分块边框\n",
    "    )\n",
    "    \n",
    "    # 设置标题\n",
    "    plt.title(title, fontsize=fontsize+2, pad=20)\n",
    "    \n",
    "    # 添加图例\n",
    "    if len(data) > 10 or any(p < min_pct for p in data/sum(data)*100):\n",
    "        plt.legend(\n",
    "            wedges, \n",
    "            labels,\n",
    "            title=\"分类\",\n",
    "            loc=legend_loc,\n",
    "            bbox_to_anchor=(1, 0, 0.5, 1),\n",
    "            fontsize=fontsize\n",
    "        )\n",
    "    \n",
    "    # 调整自动标签\n",
    "    for autotext in autotexts:\n",
    "        autotext.set_fontsize(fontsize-1)\n",
    "        autotext.set_color('white')\n",
    "        autotext.set_weight('bold')\n",
    "    \n",
    "    # 确保饼图为圆形\n",
    "    plt.axis('equal')\n",
    "    \n",
    "    # 调整布局\n",
    "    plt.tight_layout()\n",
    "    \n",
    "    # 保存图片\n",
    "    if folder_path:\n",
    "        os.makedirs(folder_path, exist_ok=True)\n",
    "        file_path = os.path.join(folder_path, filename)\n",
    "        plt.savefig(file_path, bbox_inches='tight', dpi=300, transparent=True)\n",
    "        print(f\"图表已保存至: {file_path}\")\n",
    "    \n",
    "    plt.show()"
   ]
  },
  {
   "cell_type": "code",
   "execution_count": 56,
   "metadata": {},
   "outputs": [
    {
     "name": "stdout",
     "output_type": "stream",
     "text": [
      "Looking in indexes: https://pypi.tuna.tsinghua.edu.cn/simple\n",
      "Collecting pyecharts\n",
      "  Downloading https://pypi.tuna.tsinghua.edu.cn/packages/ae/18/383622b338e4f6948ba1b75a8155d748ce097ead08a4163ca763f0ad510e/pyecharts-2.0.8-py3-none-any.whl (153 kB)\n",
      "Requirement already satisfied: jinja2 in c:\\users\\25859\\conda3\\envs\\rag\\lib\\site-packages (from pyecharts) (3.1.5)\n",
      "Collecting prettytable (from pyecharts)\n",
      "  Downloading https://pypi.tuna.tsinghua.edu.cn/packages/02/c7/5613524e606ea1688b3bdbf48aa64bafb6d0a4ac3750274c43b6158a390f/prettytable-3.16.0-py3-none-any.whl (33 kB)\n",
      "Collecting simplejson (from pyecharts)\n",
      "  Downloading https://pypi.tuna.tsinghua.edu.cn/packages/5f/af/593f896573f306519332d4287b1ab8b7b888c239bbd5159f7054d7055c2d/simplejson-3.20.1-cp310-cp310-win_amd64.whl (75 kB)\n",
      "Requirement already satisfied: MarkupSafe>=2.0 in c:\\users\\25859\\conda3\\envs\\rag\\lib\\site-packages (from jinja2->pyecharts) (3.0.2)\n",
      "Requirement already satisfied: wcwidth in c:\\users\\25859\\conda3\\envs\\rag\\lib\\site-packages (from prettytable->pyecharts) (0.2.13)\n",
      "Installing collected packages: simplejson, prettytable, pyecharts\n",
      "Successfully installed prettytable-3.16.0 pyecharts-2.0.8 simplejson-3.20.1\n",
      "Note: you may need to restart the kernel to use updated packages.\n"
     ]
    }
   ],
   "source": [
    "pip install pyecharts"
   ]
  },
  {
   "cell_type": "code",
   "execution_count": 41,
   "metadata": {},
   "outputs": [],
   "source": [
    "from pyecharts import options as opts\n",
    "from pyecharts.charts import Sankey\n",
    "import os\n",
    "\n",
    "def plot_sankey_chart(sankey_data, title=\"Sankey Diagram\", folder_path=None, filename=\"sankey_diagram.html\"):    \n",
    "    \n",
    "    # 处理数据：提取所有唯一的节点\n",
    "    nodes = list(set(sankey_data['source']).union(set(sankey_data['target'])))\n",
    "    nodes = [{\"name\": node} for node in nodes]\n",
    "    \n",
    "    # 构建桑基图所需的links格式\n",
    "    links = [\n",
    "        {\n",
    "            \"source\": row['source'],\n",
    "            \"target\": row['target'],\n",
    "            \"value\": row['value']\n",
    "        }\n",
    "        for _, row in sankey_data.iterrows()\n",
    "    ]\n",
    "    \n",
    "    # 创建桑基图\n",
    "    sankey = (\n",
    "        Sankey(init_opts=opts.InitOpts(width=\"1000px\", height=\"600px\"))\n",
    "        .add(\n",
    "            series_name=\"\",\n",
    "            nodes=nodes,\n",
    "            links=links,\n",
    "            linestyle_opt=opts.LineStyleOpts(opacity=0.2, curve=0.5, color=\"source\"),\n",
    "            label_opts=opts.LabelOpts(position=\"right\"),\n",
    "            node_gap=10,\n",
    "        )\n",
    "        .set_global_opts(\n",
    "            title_opts=opts.TitleOpts(title=title),\n",
    "            tooltip_opts=opts.TooltipOpts(trigger=\"item\", trigger_on=\"mousemove\"),\n",
    "        )\n",
    "    )\n",
    "    \n",
    "    # 确定输出路径\n",
    "    if folder_path is not None:\n",
    "        os.makedirs(folder_path, exist_ok=True)\n",
    "        output_path = os.path.join(folder_path, filename)\n",
    "    else:\n",
    "        output_path = filename\n",
    "    \n",
    "    # 渲染图表到HTML文件\n",
    "    sankey.render(output_path)\n",
    "    \n",
    "    # return output_path\n",
    "    return sankey.render_notebook()\n"
   ]
  },
  {
   "cell_type": "code",
   "execution_count": 42,
   "metadata": {},
   "outputs": [
    {
     "name": "stdout",
     "output_type": "stream",
     "text": [
      "图表已保存至: output/charts\\publication_year_pie.png\n"
     ]
    },
    {
     "data": {
      "image/png": "[encoded data removed]",
      "text/plain": [
       "<Figure size 800x600 with 1 Axes>"
      ]
     },
     "metadata": {},
     "output_type": "display_data"
    },
    {
     "name": "stderr",
     "output_type": "stream",
     "text": [
      "C:\\Users\\25859\\AppData\\Local\\Temp\\ipykernel_22088\\1829558277.py:87: UserWarning: Glyph 20854 (\\N{CJK UNIFIED IDEOGRAPH-5176}) missing from font(s) DejaVu Sans.\n",
      "  plt.tight_layout()\n",
      "C:\\Users\\25859\\AppData\\Local\\Temp\\ipykernel_22088\\1829558277.py:87: UserWarning: Glyph 20182 (\\N{CJK UNIFIED IDEOGRAPH-4ED6}) missing from font(s) DejaVu Sans.\n",
      "  plt.tight_layout()\n",
      "C:\\Users\\25859\\AppData\\Local\\Temp\\ipykernel_22088\\1829558277.py:93: UserWarning: Glyph 20854 (\\N{CJK UNIFIED IDEOGRAPH-5176}) missing from font(s) DejaVu Sans.\n",
      "  plt.savefig(file_path, bbox_inches='tight', dpi=300, transparent=True)\n",
      "C:\\Users\\25859\\AppData\\Local\\Temp\\ipykernel_22088\\1829558277.py:93: UserWarning: Glyph 20182 (\\N{CJK UNIFIED IDEOGRAPH-4ED6}) missing from font(s) DejaVu Sans.\n",
      "  plt.savefig(file_path, bbox_inches='tight', dpi=300, transparent=True)\n"
     ]
    },
    {
     "name": "stdout",
     "output_type": "stream",
     "text": [
      "图表已保存至: output/charts\\category_pie.png\n"
     ]
    },
    {
     "name": "stderr",
     "output_type": "stream",
     "text": [
      "c:\\Users\\25859\\conda3\\envs\\RAG\\lib\\site-packages\\IPython\\core\\pylabtools.py:170: UserWarning: Glyph 20854 (\\N{CJK UNIFIED IDEOGRAPH-5176}) missing from font(s) DejaVu Sans.\n",
      "  fig.canvas.print_figure(bytes_io, **kw)\n",
      "c:\\Users\\25859\\conda3\\envs\\RAG\\lib\\site-packages\\IPython\\core\\pylabtools.py:170: UserWarning: Glyph 20182 (\\N{CJK UNIFIED IDEOGRAPH-4ED6}) missing from font(s) DejaVu Sans.\n",
      "  fig.canvas.print_figure(bytes_io, **kw)\n"
     ]
    },
    {
     "data": {
      "image/png": "[encoded data removed]",
      "text/plain": [
       "<Figure size 800x600 with 1 Axes>"
      ]
     },
     "metadata": {},
     "output_type": "display_data"
    },
    {
     "data": {
      "text/html": [
       "\n",
       "<script>\n",
       "    require.config({\n",
       "        paths: {\n",
       "            'echarts':'https://assets.pyecharts.org/assets/v5/echarts.min'\n",
       "        }\n",
       "    });\n",
       "</script>\n",
       "\n",
       "        <div id=\"a9c496358c0e4635aedbd121a2e328fa\" style=\"width:1000px; height:600px;\"></div>\n",
       "\n",
       "<script>\n",
       "        require(['echarts'], function(echarts) {\n",
       "                var chart_a9c496358c0e4635aedbd121a2e328fa = echarts.init(\n",
       "                    document.getElementById('a9c496358c0e4635aedbd121a2e328fa'), 'white', {renderer: 'canvas'});\n",
       "                var option_a9c496358c0e4635aedbd121a2e328fa = {\n",
       "    \"animation\": true,\n",
       "    \"animationThreshold\": 2000,\n",
       "    \"animationDuration\": 1000,\n",
       "    \"animationEasing\": \"cubicOut\",\n",
       "    \"animationDelay\": 0,\n",
       "    \"animationDurationUpdate\": 300,\n",
       "    \"animationEasingUpdate\": \"cubicOut\",\n",
       "    \"animationDelayUpdate\": 0,\n",
       "    \"aria\": {\n",
       "        \"enabled\": false\n",
       "    },\n",
       "    \"color\": [\n",
       "        \"#5470c6\",\n",
       "        \"#91cc75\",\n",
       "        \"#fac858\",\n",
       "        \"#ee6666\",\n",
       "        \"#73c0de\",\n",
       "        \"#3ba272\",\n",
       "        \"#fc8452\",\n",
       "        \"#9a60b4\",\n",
       "        \"#ea7ccc\"\n",
       "    ],\n",
       "    \"series\": [\n",
       "        {\n",
       "            \"type\": \"sankey\",\n",
       "            \"data\": [\n",
       "                {\n",
       "                    \"name\": \"evaluation\"\n",
       "                },\n",
       "                {\n",
       "                    \"name\": \"editing_attack\"\n",
       "                },\n",
       "                {\n",
       "                    \"name\": \"prompt_injection_attack\"\n",
       "                },\n",
       "                {\n",
       "                    \"name\": \"safety_alignment\"\n",
       "                },\n",
       "                {\n",
       "                    \"name\": \"backdoor_attack\"\n",
       "                },\n",
       "                {\n",
       "                    \"name\": \"prompt_injection_defense\"\n",
       "                },\n",
       "                {\n",
       "                    \"name\": \"backdoor_defense\"\n",
       "                },\n",
       "                {\n",
       "                    \"name\": \"2024\"\n",
       "                },\n",
       "                {\n",
       "                    \"name\": \"2023\"\n",
       "                },\n",
       "                {\n",
       "                    \"name\": \"jailbreak_defense\"\n",
       "                },\n",
       "                {\n",
       "                    \"name\": \"jailbreak_attack\"\n",
       "                },\n",
       "                {\n",
       "                    \"name\": \"data_extraction_attack\"\n",
       "                },\n",
       "                {\n",
       "                    \"name\": \"adversarial_defense\"\n",
       "                },\n",
       "                {\n",
       "                    \"name\": \"2025\"\n",
       "                },\n",
       "                {\n",
       "                    \"name\": \"adversarial_attack\"\n",
       "                }\n",
       "            ],\n",
       "            \"links\": [\n",
       "                {\n",
       "                    \"source\": \"2023\",\n",
       "                    \"target\": \"evaluation\",\n",
       "                    \"value\": 1\n",
       "                },\n",
       "                {\n",
       "                    \"source\": \"2023\",\n",
       "                    \"target\": \"jailbreak_attack\",\n",
       "                    \"value\": 2\n",
       "                },\n",
       "                {\n",
       "                    \"source\": \"2023\",\n",
       "                    \"target\": \"prompt_injection_attack\",\n",
       "                    \"value\": 2\n",
       "                },\n",
       "                {\n",
       "                    \"source\": \"2023\",\n",
       "                    \"target\": \"safety_alignment\",\n",
       "                    \"value\": 2\n",
       "                },\n",
       "                {\n",
       "                    \"source\": \"2024\",\n",
       "                    \"target\": \"adversarial_attack\",\n",
       "                    \"value\": 8\n",
       "                },\n",
       "                {\n",
       "                    \"source\": \"2024\",\n",
       "                    \"target\": \"adversarial_defense\",\n",
       "                    \"value\": 10\n",
       "                },\n",
       "                {\n",
       "                    \"source\": \"2024\",\n",
       "                    \"target\": \"backdoor_attack\",\n",
       "                    \"value\": 1\n",
       "                },\n",
       "                {\n",
       "                    \"source\": \"2024\",\n",
       "                    \"target\": \"backdoor_defense\",\n",
       "                    \"value\": 1\n",
       "                },\n",
       "                {\n",
       "                    \"source\": \"2024\",\n",
       "                    \"target\": \"data_extraction_attack\",\n",
       "                    \"value\": 1\n",
       "                },\n",
       "                {\n",
       "                    \"source\": \"2024\",\n",
       "                    \"target\": \"editing_attack\",\n",
       "                    \"value\": 1\n",
       "                },\n",
       "                {\n",
       "                    \"source\": \"2024\",\n",
       "                    \"target\": \"evaluation\",\n",
       "                    \"value\": 10\n",
       "                },\n",
       "                {\n",
       "                    \"source\": \"2024\",\n",
       "                    \"target\": \"jailbreak_attack\",\n",
       "                    \"value\": 80\n",
       "                },\n",
       "                {\n",
       "                    \"source\": \"2024\",\n",
       "                    \"target\": \"jailbreak_defense\",\n",
       "                    \"value\": 26\n",
       "                },\n",
       "                {\n",
       "                    \"source\": \"2024\",\n",
       "                    \"target\": \"prompt_injection_attack\",\n",
       "                    \"value\": 17\n",
       "                },\n",
       "                {\n",
       "                    \"source\": \"2024\",\n",
       "                    \"target\": \"prompt_injection_defense\",\n",
       "                    \"value\": 12\n",
       "                },\n",
       "                {\n",
       "                    \"source\": \"2024\",\n",
       "                    \"target\": \"safety_alignment\",\n",
       "                    \"value\": 58\n",
       "                },\n",
       "                {\n",
       "                    \"source\": \"2025\",\n",
       "                    \"target\": \"adversarial_attack\",\n",
       "                    \"value\": 3\n",
       "                },\n",
       "                {\n",
       "                    \"source\": \"2025\",\n",
       "                    \"target\": \"adversarial_defense\",\n",
       "                    \"value\": 6\n",
       "                },\n",
       "                {\n",
       "                    \"source\": \"2025\",\n",
       "                    \"target\": \"backdoor_attack\",\n",
       "                    \"value\": 1\n",
       "                },\n",
       "                {\n",
       "                    \"source\": \"2025\",\n",
       "                    \"target\": \"evaluation\",\n",
       "                    \"value\": 3\n",
       "                },\n",
       "                {\n",
       "                    \"source\": \"2025\",\n",
       "                    \"target\": \"jailbreak_attack\",\n",
       "                    \"value\": 43\n",
       "                },\n",
       "                {\n",
       "                    \"source\": \"2025\",\n",
       "                    \"target\": \"jailbreak_defense\",\n",
       "                    \"value\": 29\n",
       "                },\n",
       "                {\n",
       "                    \"source\": \"2025\",\n",
       "                    \"target\": \"prompt_injection_attack\",\n",
       "                    \"value\": 4\n",
       "                },\n",
       "                {\n",
       "                    \"source\": \"2025\",\n",
       "                    \"target\": \"prompt_injection_defense\",\n",
       "                    \"value\": 4\n",
       "                },\n",
       "                {\n",
       "                    \"source\": \"2025\",\n",
       "                    \"target\": \"safety_alignment\",\n",
       "                    \"value\": 29\n",
       "                }\n",
       "            ],\n",
       "            \"left\": \"5%\",\n",
       "            \"top\": \"5%\",\n",
       "            \"right\": \"20%\",\n",
       "            \"bottom\": \"5%\",\n",
       "            \"nodeWidth\": 20,\n",
       "            \"nodeGap\": 10,\n",
       "            \"nodeAlign\": \"justify\",\n",
       "            \"orient\": \"horizontal\",\n",
       "            \"draggable\": true,\n",
       "            \"label\": {\n",
       "                \"show\": true,\n",
       "                \"position\": \"right\",\n",
       "                \"margin\": 8,\n",
       "                \"valueAnimation\": false\n",
       "            },\n",
       "            \"lineStyle\": {\n",
       "                \"show\": true,\n",
       "                \"width\": 1,\n",
       "                \"opacity\": 0.2,\n",
       "                \"curveness\": 0.5,\n",
       "                \"type\": \"solid\",\n",
       "                \"color\": \"source\"\n",
       "            }\n",
       "        }\n",
       "    ],\n",
       "    \"legend\": [\n",
       "        {\n",
       "            \"data\": [\n",
       "                \"\"\n",
       "            ],\n",
       "            \"selected\": {},\n",
       "            \"show\": true,\n",
       "            \"padding\": 5,\n",
       "            \"itemGap\": 10,\n",
       "            \"itemWidth\": 25,\n",
       "            \"itemHeight\": 14,\n",
       "            \"backgroundColor\": \"transparent\",\n",
       "            \"borderColor\": \"#ccc\",\n",
       "            \"borderRadius\": 0,\n",
       "            \"pageButtonItemGap\": 5,\n",
       "            \"pageButtonPosition\": \"end\",\n",
       "            \"pageFormatter\": \"{current}/{total}\",\n",
       "            \"pageIconColor\": \"#2f4554\",\n",
       "            \"pageIconInactiveColor\": \"#aaa\",\n",
       "            \"pageIconSize\": 15,\n",
       "            \"animationDurationUpdate\": 800,\n",
       "            \"selector\": false,\n",
       "            \"selectorPosition\": \"auto\",\n",
       "            \"selectorItemGap\": 7,\n",
       "            \"selectorButtonGap\": 10\n",
       "        }\n",
       "    ],\n",
       "    \"tooltip\": {\n",
       "        \"show\": true,\n",
       "        \"trigger\": \"item\",\n",
       "        \"triggerOn\": \"mousemove\",\n",
       "        \"axisPointer\": {\n",
       "            \"type\": \"line\"\n",
       "        },\n",
       "        \"showContent\": true,\n",
       "        \"alwaysShowContent\": false,\n",
       "        \"showDelay\": 0,\n",
       "        \"hideDelay\": 100,\n",
       "        \"enterable\": false,\n",
       "        \"confine\": false,\n",
       "        \"appendToBody\": false,\n",
       "        \"transitionDuration\": 0.4,\n",
       "        \"textStyle\": {\n",
       "            \"fontSize\": 14\n",
       "        },\n",
       "        \"borderWidth\": 0,\n",
       "        \"padding\": 5,\n",
       "        \"order\": \"seriesAsc\"\n",
       "    },\n",
       "    \"title\": [\n",
       "        {\n",
       "            \"show\": true,\n",
       "            \"text\": \"Publication Year \\u2192 Category Flow\",\n",
       "            \"target\": \"blank\",\n",
       "            \"subtarget\": \"blank\",\n",
       "            \"padding\": 5,\n",
       "            \"itemGap\": 10,\n",
       "            \"textAlign\": \"auto\",\n",
       "            \"textVerticalAlign\": \"auto\",\n",
       "            \"triggerEvent\": false\n",
       "        }\n",
       "    ]\n",
       "};\n",
       "                chart_a9c496358c0e4635aedbd121a2e328fa.setOption(option_a9c496358c0e4635aedbd121a2e328fa);\n",
       "        });\n",
       "    </script>\n"
      ],
      "text/plain": [
       "<pyecharts.render.display.HTML at 0x1d90964e800>"
      ]
     },
     "execution_count": 42,
     "metadata": {},
     "output_type": "execute_result"
    }
   ],
   "source": [
    "# 数据路径\n",
    "paper_infos_path = \"output/paper_infos7.json\"\n",
    "output_folder = \"output/charts\"\n",
    "\n",
    "# 处理论文数据\n",
    "result = process_paper_data(paper_infos_path, score_threshold=2)\n",
    "\n",
    "# 绘制年份分布饼状图\n",
    "plot_pie_chart(\n",
    "    data=result['year_counts'], \n",
    "    labels=result['year_counts'].index, \n",
    "    title=\"Paper Distribution by Publication Year\", \n",
    "    figsize=(8, 6),\n",
    "    folder_path=output_folder, \n",
    "    filename=\"publication_year_pie.png\"\n",
    ")\n",
    "\n",
    "# 绘制类别分布饼状图\n",
    "plot_pie_chart(\n",
    "    data=result['category_counts'], \n",
    "    labels=result['category_counts'].index, \n",
    "    title=\"Paper Distribution by Category\", \n",
    "    figsize=(8, 6),\n",
    "    folder_path=output_folder, \n",
    "    filename=\"category_pie.png\"\n",
    ")\n",
    "\n",
    "# 绘制桑基图\n",
    "plot_sankey_chart(\n",
    "    sankey_data=result['sankey_data'], \n",
    "    title=\"Publication Year → Category Flow\", \n",
    "    folder_path=output_folder, \n",
    "    filename=\"sankey_diagram.html\"\n",
    ")"
   ]
  },
  {
   "cell_type": "markdown",
   "metadata": {},
   "source": [
    "绘制桑基图时的测试代码；  \n",
    "发现需要的格式是{\"source\":[],\"target\":[],\"value\":[]}"
   ]
  },
  {
   "cell_type": "code",
   "execution_count": 40,
   "metadata": {},
   "outputs": [
    {
     "data": {
      "text/plain": [
       "'./output/charts\\\\attack_defense_trend.html'"
      ]
     },
     "execution_count": 40,
     "metadata": {},
     "output_type": "execute_result"
    }
   ],
   "source": [
    "# 数据路径\n",
    "paper_infos_path = \"output/paper_infos7.json\"\n",
    "output_folder = \"output/charts\"\n",
    "\n",
    "# 处理论文数据\n",
    "result = process_paper_data(paper_infos_path, score_threshold=2)\n",
    "\n",
    "sankey_data=result[\"sankey_data\"]\n",
    "# print(sankey_data)\n",
    "\n",
    "# 调用函数绘制桑基图\n",
    "plot_sankey_chart(sankey_data, title=\"攻击与防御趋势分析\", folder_path=\"./output/charts\", filename=\"attack_defense_trend.html\")\n"
   ]
  },
  {
   "cell_type": "code",
   "execution_count": 22,
   "metadata": {},
   "outputs": [
    {
     "name": "stdout",
     "output_type": "stream",
     "text": [
      "{'source': ['2023', '2023', '2023', '2023', '2024', '2024', '2024', '2024', '2024', '2024', '2024', '2024', '2024', '2024', '2024', '2024', '2025', '2025', '2025', '2025', '2025', '2025', '2025', '2025', '2025'], 'target': ['evaluation', 'jailbreak_attack', 'prompt_injection_attack', 'safety_alignment', 'adversarial_attack', 'adversarial_defense', 'backdoor_attack', 'backdoor_defense', 'data_extraction_attack', 'editing_attack', 'evaluation', 'jailbreak_attack', 'jailbreak_defense', 'prompt_injection_attack', 'prompt_injection_defense', 'safety_alignment', 'adversarial_attack', 'adversarial_defense', 'backdoor_attack', 'evaluation', 'jailbreak_attack', 'jailbreak_defense', 'prompt_injection_attack', 'prompt_injection_defense', 'safety_alignment'], 'value': [1, 2, 2, 2, 8, 10, 1, 1, 1, 1, 10, 80, 26, 17, 12, 58, 3, 6, 1, 3, 43, 29, 4, 4, 29]}\n"
     ]
    },
    {
     "data": {
      "text/plain": [
       "'output/charts\\\\ai_security_sankey.html'"
      ]
     },
     "execution_count": 22,
     "metadata": {},
     "output_type": "execute_result"
    }
   ],
   "source": [
    "import pandas as pd\n",
    "\n",
    "# 示例数据\n",
    "data = {\n",
    "    'source': ['2023', '2023', '2023', '2023', '2024', '2024', '2024', '2024', '2024', '2024', \n",
    "               '2024', '2024', '2024', '2024', '2024', '2024', '2025', '2025', '2025', '2025', \n",
    "               '2025', '2025', '2025', '2025', '2025'],\n",
    "    'target': ['evaluation', 'jailbreak_attack', 'prompt_injection_attack', 'safety_alignment', \n",
    "               'adversarial_attack', 'adversarial_defense', 'backdoor_attack', 'backdoor_defense', \n",
    "               'data_extraction_attack', 'editing_attack', 'evaluation', 'jailbreak_attack', \n",
    "               'jailbreak_defense', 'prompt_injection_attack', 'prompt_injection_defense', \n",
    "               'safety_alignment', 'adversarial_attack', 'adversarial_defense', 'backdoor_attack', \n",
    "               'evaluation', 'jailbreak_attack', 'jailbreak_defense', 'prompt_injection_attack', \n",
    "               'prompt_injection_defense', 'safety_alignment'],\n",
    "    'value': [1, 2, 2, 2, 8, 10, 1, 1, 1, 1, 10, 80, 26, 17, 12, 58, 3, 6, 1, 3, 43, 29, 4, 4, 29]\n",
    "}\n",
    "\n",
    "print(data)\n",
    "sankey_data = pd.DataFrame(data)\n",
    "\n",
    "# 调用函数绘制桑基图\n",
    "plot_sankey_chart(\n",
    "    sankey_data, \n",
    "    title=\"AI Security Research Trends (2023-2025)\",\n",
    "    folder_path=\"output/charts\",\n",
    "    filename=\"ai_security_sankey.html\"\n",
    ")"
   ]
  }
 ],
 "metadata": {
  "kernelspec": {
   "display_name": "RAG",
   "language": "python",
   "name": "python3"
  },
  "language_info": {
   "codemirror_mode": {
    "name": "ipython",
    "version": 3
   },
   "file_extension": ".py",
   "mimetype": "text/x-python",
   "name": "python",
   "nbconvert_exporter": "python",
   "pygments_lexer": "ipython3",
   "version": "3.10.16"
  }
 },
 "nbformat": 4,
 "nbformat_minor": 2
}
